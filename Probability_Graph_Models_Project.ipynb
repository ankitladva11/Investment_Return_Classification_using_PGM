{
 "cells": [
  {
   "cell_type": "markdown",
   "metadata": {},
   "source": []
  },
  {
   "cell_type": "code",
   "execution_count": 1,
   "metadata": {},
   "outputs": [],
   "source": [
    "import pandas as pd\n",
    "import numpy as np\n",
    "import matplotlib.pyplot as plt\n",
    "import statistics as stats\n",
    "import seaborn as sns"
   ]
  },
  {
   "cell_type": "code",
   "execution_count": 2,
   "metadata": {},
   "outputs": [
    {
     "data": {
      "text/html": [
       "<div>\n",
       "<style scoped>\n",
       "    .dataframe tbody tr th:only-of-type {\n",
       "        vertical-align: middle;\n",
       "    }\n",
       "\n",
       "    .dataframe tbody tr th {\n",
       "        vertical-align: top;\n",
       "    }\n",
       "\n",
       "    .dataframe thead th {\n",
       "        text-align: right;\n",
       "    }\n",
       "</style>\n",
       "<table border=\"1\" class=\"dataframe\">\n",
       "  <thead>\n",
       "    <tr style=\"text-align: right;\">\n",
       "      <th></th>\n",
       "      <th>Unnamed: 0</th>\n",
       "      <th>Revenue</th>\n",
       "      <th>Revenue Growth</th>\n",
       "      <th>Cost of Revenue</th>\n",
       "      <th>Gross Profit</th>\n",
       "      <th>R&amp;D Expenses</th>\n",
       "      <th>SG&amp;A Expense</th>\n",
       "      <th>Operating Expenses</th>\n",
       "      <th>Operating Income</th>\n",
       "      <th>Interest Expense</th>\n",
       "      <th>...</th>\n",
       "      <th>Receivables growth</th>\n",
       "      <th>Inventory Growth</th>\n",
       "      <th>Asset Growth</th>\n",
       "      <th>Book Value per Share Growth</th>\n",
       "      <th>Debt Growth</th>\n",
       "      <th>R&amp;D Expense Growth</th>\n",
       "      <th>SG&amp;A Expenses Growth</th>\n",
       "      <th>Sector</th>\n",
       "      <th>2019 PRICE VAR [%]</th>\n",
       "      <th>Class</th>\n",
       "    </tr>\n",
       "  </thead>\n",
       "  <tbody>\n",
       "    <tr>\n",
       "      <th>0</th>\n",
       "      <td>CMCSA</td>\n",
       "      <td>9.450700e+10</td>\n",
       "      <td>0.1115</td>\n",
       "      <td>0.000000e+00</td>\n",
       "      <td>9.450700e+10</td>\n",
       "      <td>0.000000e+00</td>\n",
       "      <td>6.482200e+10</td>\n",
       "      <td>7.549800e+10</td>\n",
       "      <td>1.900900e+10</td>\n",
       "      <td>3.542000e+09</td>\n",
       "      <td>...</td>\n",
       "      <td>0.2570</td>\n",
       "      <td>0.0000</td>\n",
       "      <td>0.3426</td>\n",
       "      <td>0.0722</td>\n",
       "      <td>0.7309</td>\n",
       "      <td>0.0000</td>\n",
       "      <td>0.1308</td>\n",
       "      <td>Consumer Cyclical</td>\n",
       "      <td>32.794573</td>\n",
       "      <td>1</td>\n",
       "    </tr>\n",
       "    <tr>\n",
       "      <th>1</th>\n",
       "      <td>KMI</td>\n",
       "      <td>1.414400e+10</td>\n",
       "      <td>0.0320</td>\n",
       "      <td>7.288000e+09</td>\n",
       "      <td>6.856000e+09</td>\n",
       "      <td>0.000000e+00</td>\n",
       "      <td>6.010000e+08</td>\n",
       "      <td>3.062000e+09</td>\n",
       "      <td>3.794000e+09</td>\n",
       "      <td>1.917000e+09</td>\n",
       "      <td>...</td>\n",
       "      <td>0.0345</td>\n",
       "      <td>-0.0920</td>\n",
       "      <td>-0.0024</td>\n",
       "      <td>0.0076</td>\n",
       "      <td>-0.0137</td>\n",
       "      <td>0.0000</td>\n",
       "      <td>-0.1265</td>\n",
       "      <td>Energy</td>\n",
       "      <td>40.588068</td>\n",
       "      <td>1</td>\n",
       "    </tr>\n",
       "    <tr>\n",
       "      <th>2</th>\n",
       "      <td>INTC</td>\n",
       "      <td>7.084800e+10</td>\n",
       "      <td>0.1289</td>\n",
       "      <td>2.711100e+10</td>\n",
       "      <td>4.373700e+10</td>\n",
       "      <td>1.354300e+10</td>\n",
       "      <td>6.750000e+09</td>\n",
       "      <td>2.042100e+10</td>\n",
       "      <td>2.331600e+10</td>\n",
       "      <td>-1.260000e+08</td>\n",
       "      <td>...</td>\n",
       "      <td>0.1989</td>\n",
       "      <td>0.0387</td>\n",
       "      <td>0.0382</td>\n",
       "      <td>0.1014</td>\n",
       "      <td>-0.0169</td>\n",
       "      <td>0.0390</td>\n",
       "      <td>-0.0942</td>\n",
       "      <td>Technology</td>\n",
       "      <td>30.295514</td>\n",
       "      <td>1</td>\n",
       "    </tr>\n",
       "    <tr>\n",
       "      <th>3</th>\n",
       "      <td>MU</td>\n",
       "      <td>3.039100e+10</td>\n",
       "      <td>0.4955</td>\n",
       "      <td>1.250000e+10</td>\n",
       "      <td>1.789100e+10</td>\n",
       "      <td>2.141000e+09</td>\n",
       "      <td>8.130000e+08</td>\n",
       "      <td>2.897000e+09</td>\n",
       "      <td>1.499400e+10</td>\n",
       "      <td>3.420000e+08</td>\n",
       "      <td>...</td>\n",
       "      <td>0.4573</td>\n",
       "      <td>0.1511</td>\n",
       "      <td>0.2275</td>\n",
       "      <td>0.6395</td>\n",
       "      <td>-0.5841</td>\n",
       "      <td>0.1738</td>\n",
       "      <td>0.0942</td>\n",
       "      <td>Technology</td>\n",
       "      <td>64.213737</td>\n",
       "      <td>1</td>\n",
       "    </tr>\n",
       "    <tr>\n",
       "      <th>4</th>\n",
       "      <td>GE</td>\n",
       "      <td>1.216150e+11</td>\n",
       "      <td>0.0285</td>\n",
       "      <td>9.546100e+10</td>\n",
       "      <td>2.615400e+10</td>\n",
       "      <td>0.000000e+00</td>\n",
       "      <td>1.811100e+10</td>\n",
       "      <td>4.071100e+10</td>\n",
       "      <td>-1.455700e+10</td>\n",
       "      <td>5.059000e+09</td>\n",
       "      <td>...</td>\n",
       "      <td>-0.2781</td>\n",
       "      <td>-0.2892</td>\n",
       "      <td>-0.1575</td>\n",
       "      <td>-0.4487</td>\n",
       "      <td>-0.2297</td>\n",
       "      <td>0.0000</td>\n",
       "      <td>0.0308</td>\n",
       "      <td>Industrials</td>\n",
       "      <td>44.757840</td>\n",
       "      <td>1</td>\n",
       "    </tr>\n",
       "  </tbody>\n",
       "</table>\n",
       "<p>5 rows × 225 columns</p>\n",
       "</div>"
      ],
      "text/plain": [
       "  Unnamed: 0       Revenue  Revenue Growth  Cost of Revenue  Gross Profit  \\\n",
       "0      CMCSA  9.450700e+10          0.1115     0.000000e+00  9.450700e+10   \n",
       "1        KMI  1.414400e+10          0.0320     7.288000e+09  6.856000e+09   \n",
       "2       INTC  7.084800e+10          0.1289     2.711100e+10  4.373700e+10   \n",
       "3         MU  3.039100e+10          0.4955     1.250000e+10  1.789100e+10   \n",
       "4         GE  1.216150e+11          0.0285     9.546100e+10  2.615400e+10   \n",
       "\n",
       "   R&D Expenses  SG&A Expense  Operating Expenses  Operating Income  \\\n",
       "0  0.000000e+00  6.482200e+10        7.549800e+10      1.900900e+10   \n",
       "1  0.000000e+00  6.010000e+08        3.062000e+09      3.794000e+09   \n",
       "2  1.354300e+10  6.750000e+09        2.042100e+10      2.331600e+10   \n",
       "3  2.141000e+09  8.130000e+08        2.897000e+09      1.499400e+10   \n",
       "4  0.000000e+00  1.811100e+10        4.071100e+10     -1.455700e+10   \n",
       "\n",
       "   Interest Expense  ...  Receivables growth  Inventory Growth  Asset Growth  \\\n",
       "0      3.542000e+09  ...              0.2570            0.0000        0.3426   \n",
       "1      1.917000e+09  ...              0.0345           -0.0920       -0.0024   \n",
       "2     -1.260000e+08  ...              0.1989            0.0387        0.0382   \n",
       "3      3.420000e+08  ...              0.4573            0.1511        0.2275   \n",
       "4      5.059000e+09  ...             -0.2781           -0.2892       -0.1575   \n",
       "\n",
       "   Book Value per Share Growth  Debt Growth  R&D Expense Growth  \\\n",
       "0                       0.0722       0.7309              0.0000   \n",
       "1                       0.0076      -0.0137              0.0000   \n",
       "2                       0.1014      -0.0169              0.0390   \n",
       "3                       0.6395      -0.5841              0.1738   \n",
       "4                      -0.4487      -0.2297              0.0000   \n",
       "\n",
       "   SG&A Expenses Growth             Sector  2019 PRICE VAR [%]  Class  \n",
       "0                0.1308  Consumer Cyclical           32.794573      1  \n",
       "1               -0.1265             Energy           40.588068      1  \n",
       "2               -0.0942         Technology           30.295514      1  \n",
       "3                0.0942         Technology           64.213737      1  \n",
       "4                0.0308        Industrials           44.757840      1  \n",
       "\n",
       "[5 rows x 225 columns]"
      ]
     },
     "execution_count": 2,
     "metadata": {},
     "output_type": "execute_result"
    }
   ],
   "source": [
    "df=pd.read_csv(\"2018_Financial_Data.csv\")\n",
    "df.head()\n"
   ]
  },
  {
   "cell_type": "code",
   "execution_count": 3,
   "metadata": {},
   "outputs": [
    {
     "name": "stdout",
     "output_type": "stream",
     "text": [
      "<class 'pandas.core.frame.DataFrame'>\n",
      "RangeIndex: 4392 entries, 0 to 4391\n",
      "Columns: 225 entries, Unnamed: 0 to Class\n",
      "dtypes: float64(222), int64(1), object(2)\n",
      "memory usage: 7.5+ MB\n"
     ]
    }
   ],
   "source": [
    "df.info()"
   ]
  },
  {
   "cell_type": "code",
   "execution_count": 4,
   "metadata": {},
   "outputs": [
    {
     "data": {
      "text/html": [
       "<div>\n",
       "<style scoped>\n",
       "    .dataframe tbody tr th:only-of-type {\n",
       "        vertical-align: middle;\n",
       "    }\n",
       "\n",
       "    .dataframe tbody tr th {\n",
       "        vertical-align: top;\n",
       "    }\n",
       "\n",
       "    .dataframe thead th {\n",
       "        text-align: right;\n",
       "    }\n",
       "</style>\n",
       "<table border=\"1\" class=\"dataframe\">\n",
       "  <thead>\n",
       "    <tr style=\"text-align: right;\">\n",
       "      <th></th>\n",
       "      <th>Revenue</th>\n",
       "      <th>Revenue Growth</th>\n",
       "      <th>Cost of Revenue</th>\n",
       "      <th>Gross Profit</th>\n",
       "      <th>R&amp;D Expenses</th>\n",
       "      <th>SG&amp;A Expense</th>\n",
       "      <th>Operating Expenses</th>\n",
       "      <th>Operating Income</th>\n",
       "      <th>Interest Expense</th>\n",
       "      <th>Earnings before Tax</th>\n",
       "      <th>...</th>\n",
       "      <th>3Y Dividend per Share Growth (per Share)</th>\n",
       "      <th>Receivables growth</th>\n",
       "      <th>Inventory Growth</th>\n",
       "      <th>Asset Growth</th>\n",
       "      <th>Book Value per Share Growth</th>\n",
       "      <th>Debt Growth</th>\n",
       "      <th>R&amp;D Expense Growth</th>\n",
       "      <th>SG&amp;A Expenses Growth</th>\n",
       "      <th>2019 PRICE VAR [%]</th>\n",
       "      <th>Class</th>\n",
       "    </tr>\n",
       "  </thead>\n",
       "  <tbody>\n",
       "    <tr>\n",
       "      <th>count</th>\n",
       "      <td>4.346000e+03</td>\n",
       "      <td>4253.000000</td>\n",
       "      <td>4.207000e+03</td>\n",
       "      <td>4.328000e+03</td>\n",
       "      <td>4.155000e+03</td>\n",
       "      <td>4.226000e+03</td>\n",
       "      <td>4.208000e+03</td>\n",
       "      <td>4.357000e+03</td>\n",
       "      <td>4.208000e+03</td>\n",
       "      <td>4.321000e+03</td>\n",
       "      <td>...</td>\n",
       "      <td>4067.000000</td>\n",
       "      <td>4268.000000</td>\n",
       "      <td>4160.000000</td>\n",
       "      <td>4178.000000</td>\n",
       "      <td>4121.000000</td>\n",
       "      <td>4128.000000</td>\n",
       "      <td>4133.000000</td>\n",
       "      <td>4144.000000</td>\n",
       "      <td>4392.000000</td>\n",
       "      <td>4392.000000</td>\n",
       "    </tr>\n",
       "    <tr>\n",
       "      <th>mean</th>\n",
       "      <td>5.119287e+09</td>\n",
       "      <td>3.455278</td>\n",
       "      <td>3.144946e+09</td>\n",
       "      <td>2.043954e+09</td>\n",
       "      <td>1.180176e+08</td>\n",
       "      <td>9.005022e+08</td>\n",
       "      <td>1.435546e+09</td>\n",
       "      <td>6.541207e+08</td>\n",
       "      <td>1.001350e+08</td>\n",
       "      <td>5.584432e+08</td>\n",
       "      <td>...</td>\n",
       "      <td>0.006081</td>\n",
       "      <td>36.768524</td>\n",
       "      <td>0.183066</td>\n",
       "      <td>1.389013</td>\n",
       "      <td>0.262530</td>\n",
       "      <td>9.928446</td>\n",
       "      <td>0.091891</td>\n",
       "      <td>0.153610</td>\n",
       "      <td>20.803948</td>\n",
       "      <td>0.693534</td>\n",
       "    </tr>\n",
       "    <tr>\n",
       "      <th>std</th>\n",
       "      <td>2.049504e+10</td>\n",
       "      <td>195.504906</td>\n",
       "      <td>1.508813e+10</td>\n",
       "      <td>7.682369e+09</td>\n",
       "      <td>9.330891e+08</td>\n",
       "      <td>3.661116e+09</td>\n",
       "      <td>5.529831e+09</td>\n",
       "      <td>2.969341e+09</td>\n",
       "      <td>3.780021e+08</td>\n",
       "      <td>2.639327e+09</td>\n",
       "      <td>...</td>\n",
       "      <td>0.239653</td>\n",
       "      <td>2347.079237</td>\n",
       "      <td>4.688013</td>\n",
       "      <td>35.123904</td>\n",
       "      <td>5.612666</td>\n",
       "      <td>363.717734</td>\n",
       "      <td>0.823281</td>\n",
       "      <td>0.839647</td>\n",
       "      <td>82.622147</td>\n",
       "      <td>0.461078</td>\n",
       "    </tr>\n",
       "    <tr>\n",
       "      <th>min</th>\n",
       "      <td>-6.894100e+07</td>\n",
       "      <td>-3.461500</td>\n",
       "      <td>-2.669055e+09</td>\n",
       "      <td>-1.818220e+09</td>\n",
       "      <td>-1.042000e+08</td>\n",
       "      <td>-1.401594e+08</td>\n",
       "      <td>-4.280000e+09</td>\n",
       "      <td>-1.455700e+10</td>\n",
       "      <td>-1.408252e+09</td>\n",
       "      <td>-2.177200e+10</td>\n",
       "      <td>...</td>\n",
       "      <td>-1.000000</td>\n",
       "      <td>-1.000000</td>\n",
       "      <td>-1.000000</td>\n",
       "      <td>-0.999100</td>\n",
       "      <td>-32.258100</td>\n",
       "      <td>-1.000000</td>\n",
       "      <td>-1.000000</td>\n",
       "      <td>-1.000000</td>\n",
       "      <td>-99.864779</td>\n",
       "      <td>0.000000</td>\n",
       "    </tr>\n",
       "    <tr>\n",
       "      <th>25%</th>\n",
       "      <td>6.501425e+07</td>\n",
       "      <td>0.000000</td>\n",
       "      <td>3.415500e+06</td>\n",
       "      <td>3.618903e+07</td>\n",
       "      <td>0.000000e+00</td>\n",
       "      <td>2.056226e+07</td>\n",
       "      <td>4.223644e+07</td>\n",
       "      <td>-5.510000e+06</td>\n",
       "      <td>0.000000e+00</td>\n",
       "      <td>-1.000800e+07</td>\n",
       "      <td>...</td>\n",
       "      <td>0.000000</td>\n",
       "      <td>-0.048075</td>\n",
       "      <td>0.000000</td>\n",
       "      <td>-0.036700</td>\n",
       "      <td>-0.108600</td>\n",
       "      <td>-0.082850</td>\n",
       "      <td>0.000000</td>\n",
       "      <td>-0.004650</td>\n",
       "      <td>-7.477173</td>\n",
       "      <td>0.000000</td>\n",
       "    </tr>\n",
       "    <tr>\n",
       "      <th>50%</th>\n",
       "      <td>4.982640e+08</td>\n",
       "      <td>0.074900</td>\n",
       "      <td>1.741180e+08</td>\n",
       "      <td>2.219470e+08</td>\n",
       "      <td>0.000000e+00</td>\n",
       "      <td>9.390450e+07</td>\n",
       "      <td>1.806253e+08</td>\n",
       "      <td>4.203800e+07</td>\n",
       "      <td>5.693500e+06</td>\n",
       "      <td>2.730700e+07</td>\n",
       "      <td>...</td>\n",
       "      <td>0.000000</td>\n",
       "      <td>0.010200</td>\n",
       "      <td>0.000000</td>\n",
       "      <td>0.034750</td>\n",
       "      <td>0.026100</td>\n",
       "      <td>0.000000</td>\n",
       "      <td>0.000000</td>\n",
       "      <td>0.065700</td>\n",
       "      <td>17.639393</td>\n",
       "      <td>1.000000</td>\n",
       "    </tr>\n",
       "    <tr>\n",
       "      <th>75%</th>\n",
       "      <td>2.457878e+09</td>\n",
       "      <td>0.188500</td>\n",
       "      <td>1.297814e+09</td>\n",
       "      <td>9.767015e+08</td>\n",
       "      <td>1.450150e+07</td>\n",
       "      <td>4.117162e+08</td>\n",
       "      <td>6.796040e+08</td>\n",
       "      <td>2.862690e+08</td>\n",
       "      <td>5.817075e+07</td>\n",
       "      <td>2.238810e+08</td>\n",
       "      <td>...</td>\n",
       "      <td>0.042050</td>\n",
       "      <td>0.185900</td>\n",
       "      <td>0.080050</td>\n",
       "      <td>0.160575</td>\n",
       "      <td>0.138400</td>\n",
       "      <td>0.115425</td>\n",
       "      <td>0.009700</td>\n",
       "      <td>0.167625</td>\n",
       "      <td>39.625879</td>\n",
       "      <td>1.000000</td>\n",
       "    </tr>\n",
       "    <tr>\n",
       "      <th>max</th>\n",
       "      <td>5.003430e+11</td>\n",
       "      <td>12739.000000</td>\n",
       "      <td>3.733960e+11</td>\n",
       "      <td>1.269470e+11</td>\n",
       "      <td>2.883700e+10</td>\n",
       "      <td>1.065100e+11</td>\n",
       "      <td>1.065100e+11</td>\n",
       "      <td>7.089800e+10</td>\n",
       "      <td>9.168000e+09</td>\n",
       "      <td>7.290300e+10</td>\n",
       "      <td>...</td>\n",
       "      <td>4.079100</td>\n",
       "      <td>153332.333300</td>\n",
       "      <td>293.473000</td>\n",
       "      <td>1184.993800</td>\n",
       "      <td>313.395800</td>\n",
       "      <td>17646.823500</td>\n",
       "      <td>36.898100</td>\n",
       "      <td>43.718800</td>\n",
       "      <td>3756.716345</td>\n",
       "      <td>1.000000</td>\n",
       "    </tr>\n",
       "  </tbody>\n",
       "</table>\n",
       "<p>8 rows × 223 columns</p>\n",
       "</div>"
      ],
      "text/plain": [
       "            Revenue  Revenue Growth  Cost of Revenue  Gross Profit  \\\n",
       "count  4.346000e+03     4253.000000     4.207000e+03  4.328000e+03   \n",
       "mean   5.119287e+09        3.455278     3.144946e+09  2.043954e+09   \n",
       "std    2.049504e+10      195.504906     1.508813e+10  7.682369e+09   \n",
       "min   -6.894100e+07       -3.461500    -2.669055e+09 -1.818220e+09   \n",
       "25%    6.501425e+07        0.000000     3.415500e+06  3.618903e+07   \n",
       "50%    4.982640e+08        0.074900     1.741180e+08  2.219470e+08   \n",
       "75%    2.457878e+09        0.188500     1.297814e+09  9.767015e+08   \n",
       "max    5.003430e+11    12739.000000     3.733960e+11  1.269470e+11   \n",
       "\n",
       "       R&D Expenses  SG&A Expense  Operating Expenses  Operating Income  \\\n",
       "count  4.155000e+03  4.226000e+03        4.208000e+03      4.357000e+03   \n",
       "mean   1.180176e+08  9.005022e+08        1.435546e+09      6.541207e+08   \n",
       "std    9.330891e+08  3.661116e+09        5.529831e+09      2.969341e+09   \n",
       "min   -1.042000e+08 -1.401594e+08       -4.280000e+09     -1.455700e+10   \n",
       "25%    0.000000e+00  2.056226e+07        4.223644e+07     -5.510000e+06   \n",
       "50%    0.000000e+00  9.390450e+07        1.806253e+08      4.203800e+07   \n",
       "75%    1.450150e+07  4.117162e+08        6.796040e+08      2.862690e+08   \n",
       "max    2.883700e+10  1.065100e+11        1.065100e+11      7.089800e+10   \n",
       "\n",
       "       Interest Expense  Earnings before Tax  ...  \\\n",
       "count      4.208000e+03         4.321000e+03  ...   \n",
       "mean       1.001350e+08         5.584432e+08  ...   \n",
       "std        3.780021e+08         2.639327e+09  ...   \n",
       "min       -1.408252e+09        -2.177200e+10  ...   \n",
       "25%        0.000000e+00        -1.000800e+07  ...   \n",
       "50%        5.693500e+06         2.730700e+07  ...   \n",
       "75%        5.817075e+07         2.238810e+08  ...   \n",
       "max        9.168000e+09         7.290300e+10  ...   \n",
       "\n",
       "       3Y Dividend per Share Growth (per Share)  Receivables growth  \\\n",
       "count                               4067.000000         4268.000000   \n",
       "mean                                   0.006081           36.768524   \n",
       "std                                    0.239653         2347.079237   \n",
       "min                                   -1.000000           -1.000000   \n",
       "25%                                    0.000000           -0.048075   \n",
       "50%                                    0.000000            0.010200   \n",
       "75%                                    0.042050            0.185900   \n",
       "max                                    4.079100       153332.333300   \n",
       "\n",
       "       Inventory Growth  Asset Growth  Book Value per Share Growth  \\\n",
       "count       4160.000000   4178.000000                  4121.000000   \n",
       "mean           0.183066      1.389013                     0.262530   \n",
       "std            4.688013     35.123904                     5.612666   \n",
       "min           -1.000000     -0.999100                   -32.258100   \n",
       "25%            0.000000     -0.036700                    -0.108600   \n",
       "50%            0.000000      0.034750                     0.026100   \n",
       "75%            0.080050      0.160575                     0.138400   \n",
       "max          293.473000   1184.993800                   313.395800   \n",
       "\n",
       "        Debt Growth  R&D Expense Growth  SG&A Expenses Growth  \\\n",
       "count   4128.000000         4133.000000           4144.000000   \n",
       "mean       9.928446            0.091891              0.153610   \n",
       "std      363.717734            0.823281              0.839647   \n",
       "min       -1.000000           -1.000000             -1.000000   \n",
       "25%       -0.082850            0.000000             -0.004650   \n",
       "50%        0.000000            0.000000              0.065700   \n",
       "75%        0.115425            0.009700              0.167625   \n",
       "max    17646.823500           36.898100             43.718800   \n",
       "\n",
       "       2019 PRICE VAR [%]        Class  \n",
       "count         4392.000000  4392.000000  \n",
       "mean            20.803948     0.693534  \n",
       "std             82.622147     0.461078  \n",
       "min            -99.864779     0.000000  \n",
       "25%             -7.477173     0.000000  \n",
       "50%             17.639393     1.000000  \n",
       "75%             39.625879     1.000000  \n",
       "max           3756.716345     1.000000  \n",
       "\n",
       "[8 rows x 223 columns]"
      ]
     },
     "execution_count": 4,
     "metadata": {},
     "output_type": "execute_result"
    }
   ],
   "source": [
    "df.describe()"
   ]
  },
  {
   "cell_type": "code",
   "execution_count": 5,
   "metadata": {},
   "outputs": [
    {
     "data": {
      "text/plain": [
       "array(['Consumer Cyclical', 'Energy', 'Technology', 'Industrials',\n",
       "       'Financial Services', 'Basic Materials', 'Communication Services',\n",
       "       'Consumer Defensive', 'Healthcare', 'Real Estate', 'Utilities'],\n",
       "      dtype=object)"
      ]
     },
     "execution_count": 5,
     "metadata": {},
     "output_type": "execute_result"
    }
   ],
   "source": [
    "df[\"Sector\"].unique()"
   ]
  },
  {
   "cell_type": "code",
   "execution_count": 6,
   "metadata": {},
   "outputs": [],
   "source": [
    "df_copy=df.copy()"
   ]
  },
  {
   "cell_type": "markdown",
   "metadata": {},
   "source": [
    "Converting categorical column to categorical column"
   ]
  },
  {
   "cell_type": "code",
   "execution_count": 7,
   "metadata": {},
   "outputs": [
    {
     "data": {
      "text/plain": [
       "array([ 2,  4,  9,  7,  5,  0,  1,  3,  6,  8, 10])"
      ]
     },
     "execution_count": 7,
     "metadata": {},
     "output_type": "execute_result"
    }
   ],
   "source": [
    "# Import label encoder\n",
    "from sklearn import preprocessing\n",
    "\n",
    "# label_encoder object knows how to understand word labels.\n",
    "label_encoder = preprocessing.LabelEncoder()\n",
    "\n",
    "# Encode labels in column 'species'.\n",
    "df_copy['Sector']= label_encoder.fit_transform(df_copy['Sector'])\n",
    "\n",
    "df_copy['Sector'].unique()\n"
   ]
  },
  {
   "cell_type": "code",
   "execution_count": 8,
   "metadata": {},
   "outputs": [
    {
     "data": {
      "text/html": [
       "<div>\n",
       "<style scoped>\n",
       "    .dataframe tbody tr th:only-of-type {\n",
       "        vertical-align: middle;\n",
       "    }\n",
       "\n",
       "    .dataframe tbody tr th {\n",
       "        vertical-align: top;\n",
       "    }\n",
       "\n",
       "    .dataframe thead th {\n",
       "        text-align: right;\n",
       "    }\n",
       "</style>\n",
       "<table border=\"1\" class=\"dataframe\">\n",
       "  <thead>\n",
       "    <tr style=\"text-align: right;\">\n",
       "      <th></th>\n",
       "      <th>Unnamed: 0</th>\n",
       "      <th>Revenue</th>\n",
       "      <th>Revenue Growth</th>\n",
       "      <th>Cost of Revenue</th>\n",
       "      <th>Gross Profit</th>\n",
       "      <th>R&amp;D Expenses</th>\n",
       "      <th>SG&amp;A Expense</th>\n",
       "      <th>Operating Expenses</th>\n",
       "      <th>Operating Income</th>\n",
       "      <th>Interest Expense</th>\n",
       "      <th>...</th>\n",
       "      <th>Receivables growth</th>\n",
       "      <th>Inventory Growth</th>\n",
       "      <th>Asset Growth</th>\n",
       "      <th>Book Value per Share Growth</th>\n",
       "      <th>Debt Growth</th>\n",
       "      <th>R&amp;D Expense Growth</th>\n",
       "      <th>SG&amp;A Expenses Growth</th>\n",
       "      <th>Sector</th>\n",
       "      <th>2019 PRICE VAR [%]</th>\n",
       "      <th>Class</th>\n",
       "    </tr>\n",
       "  </thead>\n",
       "  <tbody>\n",
       "    <tr>\n",
       "      <th>0</th>\n",
       "      <td>CMCSA</td>\n",
       "      <td>9.450700e+10</td>\n",
       "      <td>0.1115</td>\n",
       "      <td>0.000000e+00</td>\n",
       "      <td>9.450700e+10</td>\n",
       "      <td>0.000000e+00</td>\n",
       "      <td>6.482200e+10</td>\n",
       "      <td>7.549800e+10</td>\n",
       "      <td>1.900900e+10</td>\n",
       "      <td>3.542000e+09</td>\n",
       "      <td>...</td>\n",
       "      <td>0.2570</td>\n",
       "      <td>0.0000</td>\n",
       "      <td>0.3426</td>\n",
       "      <td>0.0722</td>\n",
       "      <td>0.7309</td>\n",
       "      <td>0.000</td>\n",
       "      <td>0.1308</td>\n",
       "      <td>2</td>\n",
       "      <td>32.794573</td>\n",
       "      <td>1</td>\n",
       "    </tr>\n",
       "    <tr>\n",
       "      <th>1</th>\n",
       "      <td>KMI</td>\n",
       "      <td>1.414400e+10</td>\n",
       "      <td>0.0320</td>\n",
       "      <td>7.288000e+09</td>\n",
       "      <td>6.856000e+09</td>\n",
       "      <td>0.000000e+00</td>\n",
       "      <td>6.010000e+08</td>\n",
       "      <td>3.062000e+09</td>\n",
       "      <td>3.794000e+09</td>\n",
       "      <td>1.917000e+09</td>\n",
       "      <td>...</td>\n",
       "      <td>0.0345</td>\n",
       "      <td>-0.0920</td>\n",
       "      <td>-0.0024</td>\n",
       "      <td>0.0076</td>\n",
       "      <td>-0.0137</td>\n",
       "      <td>0.000</td>\n",
       "      <td>-0.1265</td>\n",
       "      <td>4</td>\n",
       "      <td>40.588068</td>\n",
       "      <td>1</td>\n",
       "    </tr>\n",
       "    <tr>\n",
       "      <th>2</th>\n",
       "      <td>INTC</td>\n",
       "      <td>7.084800e+10</td>\n",
       "      <td>0.1289</td>\n",
       "      <td>2.711100e+10</td>\n",
       "      <td>4.373700e+10</td>\n",
       "      <td>1.354300e+10</td>\n",
       "      <td>6.750000e+09</td>\n",
       "      <td>2.042100e+10</td>\n",
       "      <td>2.331600e+10</td>\n",
       "      <td>-1.260000e+08</td>\n",
       "      <td>...</td>\n",
       "      <td>0.1989</td>\n",
       "      <td>0.0387</td>\n",
       "      <td>0.0382</td>\n",
       "      <td>0.1014</td>\n",
       "      <td>-0.0169</td>\n",
       "      <td>0.039</td>\n",
       "      <td>-0.0942</td>\n",
       "      <td>9</td>\n",
       "      <td>30.295514</td>\n",
       "      <td>1</td>\n",
       "    </tr>\n",
       "  </tbody>\n",
       "</table>\n",
       "<p>3 rows × 225 columns</p>\n",
       "</div>"
      ],
      "text/plain": [
       "  Unnamed: 0       Revenue  Revenue Growth  Cost of Revenue  Gross Profit  \\\n",
       "0      CMCSA  9.450700e+10          0.1115     0.000000e+00  9.450700e+10   \n",
       "1        KMI  1.414400e+10          0.0320     7.288000e+09  6.856000e+09   \n",
       "2       INTC  7.084800e+10          0.1289     2.711100e+10  4.373700e+10   \n",
       "\n",
       "   R&D Expenses  SG&A Expense  Operating Expenses  Operating Income  \\\n",
       "0  0.000000e+00  6.482200e+10        7.549800e+10      1.900900e+10   \n",
       "1  0.000000e+00  6.010000e+08        3.062000e+09      3.794000e+09   \n",
       "2  1.354300e+10  6.750000e+09        2.042100e+10      2.331600e+10   \n",
       "\n",
       "   Interest Expense  ...  Receivables growth  Inventory Growth  Asset Growth  \\\n",
       "0      3.542000e+09  ...              0.2570            0.0000        0.3426   \n",
       "1      1.917000e+09  ...              0.0345           -0.0920       -0.0024   \n",
       "2     -1.260000e+08  ...              0.1989            0.0387        0.0382   \n",
       "\n",
       "   Book Value per Share Growth  Debt Growth  R&D Expense Growth  \\\n",
       "0                       0.0722       0.7309               0.000   \n",
       "1                       0.0076      -0.0137               0.000   \n",
       "2                       0.1014      -0.0169               0.039   \n",
       "\n",
       "   SG&A Expenses Growth  Sector  2019 PRICE VAR [%]  Class  \n",
       "0                0.1308       2           32.794573      1  \n",
       "1               -0.1265       4           40.588068      1  \n",
       "2               -0.0942       9           30.295514      1  \n",
       "\n",
       "[3 rows x 225 columns]"
      ]
     },
     "execution_count": 8,
     "metadata": {},
     "output_type": "execute_result"
    }
   ],
   "source": [
    "df_copy.head(3)"
   ]
  },
  {
   "cell_type": "code",
   "execution_count": 9,
   "metadata": {},
   "outputs": [],
   "source": [
    "from sklearn.preprocessing import StandardScaler\n",
    "# scaled_features2=clean_dataset(df_copy)\n",
    "scaled_features = StandardScaler().fit_transform(df_copy.iloc[:,1:].values)\n",
    "# scaled_features2\n"
   ]
  },
  {
   "cell_type": "markdown",
   "metadata": {},
   "source": [
    "Feature Extraction"
   ]
  },
  {
   "cell_type": "code",
   "execution_count": 10,
   "metadata": {},
   "outputs": [
    {
     "data": {
      "text/plain": [
       "array([[ 4.36193269, -0.0171053 , -0.20846327, ..., -1.27750278,\n",
       "         0.14514257,  0.66474883],\n",
       "       [ 0.44038703, -0.01751199,  0.27462297, ..., -0.52689513,\n",
       "         0.23948025,  0.66474883],\n",
       "       [ 3.20742317, -0.01701629,  1.58859369, ...,  1.34962401,\n",
       "         0.11489228,  0.66474883],\n",
       "       ...,\n",
       "       [-0.24713223, -0.01654515, -0.20603764, ..., -2.02811044,\n",
       "        -0.46770447, -1.50432759],\n",
       "       [-0.24981047, -0.01767569, -0.20846327, ...,  0.59901636,\n",
       "        -1.14176031, -1.50432759],\n",
       "       [-0.24722325, -0.01755138, -0.20846327, ...,  0.22371253,\n",
       "         2.28364624,  0.66474883]])"
      ]
     },
     "execution_count": 10,
     "metadata": {},
     "output_type": "execute_result"
    }
   ],
   "source": [
    "scaled_features"
   ]
  },
  {
   "cell_type": "code",
   "execution_count": 11,
   "metadata": {},
   "outputs": [
    {
     "data": {
      "text/plain": [
       "11"
      ]
     },
     "execution_count": 11,
     "metadata": {},
     "output_type": "execute_result"
    }
   ],
   "source": [
    "columns=[\"Total debt\",\"Operating Income\",\"EBITDA Margin\",\"daysOfPayablesOutstanding\",\"Inventory Turnover\",\"Revenue Growth\",\"Free Cash Flow\",\"returnOnCapitalEmployed\",\"returnOnEquity\",\"Book Value per Share\",\"Class\"]\n",
    "len(columns)"
   ]
  },
  {
   "cell_type": "code",
   "execution_count": null,
   "metadata": {},
   "outputs": [],
   "source": []
  },
  {
   "cell_type": "markdown",
   "metadata": {},
   "source": [
    "We have 10 features and 1 target feature"
   ]
  },
  {
   "cell_type": "code",
   "execution_count": 12,
   "metadata": {},
   "outputs": [],
   "source": [
    "df_final=df_copy[columns]"
   ]
  },
  {
   "cell_type": "code",
   "execution_count": 13,
   "metadata": {},
   "outputs": [
    {
     "data": {
      "text/html": [
       "<div>\n",
       "<style scoped>\n",
       "    .dataframe tbody tr th:only-of-type {\n",
       "        vertical-align: middle;\n",
       "    }\n",
       "\n",
       "    .dataframe tbody tr th {\n",
       "        vertical-align: top;\n",
       "    }\n",
       "\n",
       "    .dataframe thead th {\n",
       "        text-align: right;\n",
       "    }\n",
       "</style>\n",
       "<table border=\"1\" class=\"dataframe\">\n",
       "  <thead>\n",
       "    <tr style=\"text-align: right;\">\n",
       "      <th></th>\n",
       "      <th>Total debt</th>\n",
       "      <th>Operating Income</th>\n",
       "      <th>EBITDA Margin</th>\n",
       "      <th>daysOfPayablesOutstanding</th>\n",
       "      <th>Inventory Turnover</th>\n",
       "      <th>Revenue Growth</th>\n",
       "      <th>Free Cash Flow</th>\n",
       "      <th>returnOnCapitalEmployed</th>\n",
       "      <th>returnOnEquity</th>\n",
       "      <th>Book Value per Share</th>\n",
       "      <th>Class</th>\n",
       "    </tr>\n",
       "  </thead>\n",
       "  <tbody>\n",
       "    <tr>\n",
       "      <th>count</th>\n",
       "      <td>4.224000e+03</td>\n",
       "      <td>4.357000e+03</td>\n",
       "      <td>4084.000000</td>\n",
       "      <td>4158.000000</td>\n",
       "      <td>4153.000000</td>\n",
       "      <td>4253.000000</td>\n",
       "      <td>4.225000e+03</td>\n",
       "      <td>3290.000000</td>\n",
       "      <td>4.136000e+03</td>\n",
       "      <td>4140.000000</td>\n",
       "      <td>4392.000000</td>\n",
       "    </tr>\n",
       "    <tr>\n",
       "      <th>mean</th>\n",
       "      <td>4.276841e+09</td>\n",
       "      <td>6.541207e+08</td>\n",
       "      <td>-7.943095</td>\n",
       "      <td>264.293788</td>\n",
       "      <td>48.044948</td>\n",
       "      <td>3.455278</td>\n",
       "      <td>5.063973e+08</td>\n",
       "      <td>-0.484180</td>\n",
       "      <td>2.685090e+03</td>\n",
       "      <td>-70.206259</td>\n",
       "      <td>0.693534</td>\n",
       "    </tr>\n",
       "    <tr>\n",
       "      <th>std</th>\n",
       "      <td>2.309952e+10</td>\n",
       "      <td>2.969341e+09</td>\n",
       "      <td>182.556970</td>\n",
       "      <td>3728.406346</td>\n",
       "      <td>1494.046198</td>\n",
       "      <td>195.504906</td>\n",
       "      <td>3.049297e+09</td>\n",
       "      <td>5.646011</td>\n",
       "      <td>1.732375e+05</td>\n",
       "      <td>5648.293390</td>\n",
       "      <td>0.461078</td>\n",
       "    </tr>\n",
       "    <tr>\n",
       "      <th>min</th>\n",
       "      <td>-8.451650e+09</td>\n",
       "      <td>-1.455700e+10</td>\n",
       "      <td>-8809.838000</td>\n",
       "      <td>-26028.289100</td>\n",
       "      <td>0.000000</td>\n",
       "      <td>-3.461500</td>\n",
       "      <td>-6.227011e+10</td>\n",
       "      <td>-151.944400</td>\n",
       "      <td>-3.477246e+04</td>\n",
       "      <td>-363376.472000</td>\n",
       "      <td>0.000000</td>\n",
       "    </tr>\n",
       "    <tr>\n",
       "      <th>25%</th>\n",
       "      <td>9.184428e+06</td>\n",
       "      <td>-5.510000e+06</td>\n",
       "      <td>0.015950</td>\n",
       "      <td>10.118775</td>\n",
       "      <td>0.000000</td>\n",
       "      <td>0.000000</td>\n",
       "      <td>-1.085712e+07</td>\n",
       "      <td>-0.021675</td>\n",
       "      <td>-8.107500e-02</td>\n",
       "      <td>3.217750</td>\n",
       "      <td>0.000000</td>\n",
       "    </tr>\n",
       "    <tr>\n",
       "      <th>50%</th>\n",
       "      <td>2.601950e+08</td>\n",
       "      <td>4.203800e+07</td>\n",
       "      <td>0.129700</td>\n",
       "      <td>27.282600</td>\n",
       "      <td>3.237400</td>\n",
       "      <td>0.074900</td>\n",
       "      <td>2.472500e+07</td>\n",
       "      <td>0.035700</td>\n",
       "      <td>7.485000e-02</td>\n",
       "      <td>9.939000</td>\n",
       "      <td>1.000000</td>\n",
       "    </tr>\n",
       "    <tr>\n",
       "      <th>75%</th>\n",
       "      <td>1.710580e+09</td>\n",
       "      <td>2.862690e+08</td>\n",
       "      <td>0.310000</td>\n",
       "      <td>56.558975</td>\n",
       "      <td>10.604000</td>\n",
       "      <td>0.188500</td>\n",
       "      <td>2.098000e+08</td>\n",
       "      <td>0.090675</td>\n",
       "      <td>1.532250e-01</td>\n",
       "      <td>20.550250</td>\n",
       "      <td>1.000000</td>\n",
       "    </tr>\n",
       "    <tr>\n",
       "      <th>max</th>\n",
       "      <td>5.336270e+11</td>\n",
       "      <td>7.089800e+10</td>\n",
       "      <td>3090.870000</td>\n",
       "      <td>127441.758100</td>\n",
       "      <td>95827.710300</td>\n",
       "      <td>12739.000000</td>\n",
       "      <td>9.414620e+10</td>\n",
       "      <td>167.328600</td>\n",
       "      <td>1.114114e+07</td>\n",
       "      <td>3397.105000</td>\n",
       "      <td>1.000000</td>\n",
       "    </tr>\n",
       "  </tbody>\n",
       "</table>\n",
       "</div>"
      ],
      "text/plain": [
       "         Total debt  Operating Income  EBITDA Margin  \\\n",
       "count  4.224000e+03      4.357000e+03    4084.000000   \n",
       "mean   4.276841e+09      6.541207e+08      -7.943095   \n",
       "std    2.309952e+10      2.969341e+09     182.556970   \n",
       "min   -8.451650e+09     -1.455700e+10   -8809.838000   \n",
       "25%    9.184428e+06     -5.510000e+06       0.015950   \n",
       "50%    2.601950e+08      4.203800e+07       0.129700   \n",
       "75%    1.710580e+09      2.862690e+08       0.310000   \n",
       "max    5.336270e+11      7.089800e+10    3090.870000   \n",
       "\n",
       "       daysOfPayablesOutstanding  Inventory Turnover  Revenue Growth  \\\n",
       "count                4158.000000         4153.000000     4253.000000   \n",
       "mean                  264.293788           48.044948        3.455278   \n",
       "std                  3728.406346         1494.046198      195.504906   \n",
       "min                -26028.289100            0.000000       -3.461500   \n",
       "25%                    10.118775            0.000000        0.000000   \n",
       "50%                    27.282600            3.237400        0.074900   \n",
       "75%                    56.558975           10.604000        0.188500   \n",
       "max                127441.758100        95827.710300    12739.000000   \n",
       "\n",
       "       Free Cash Flow  returnOnCapitalEmployed  returnOnEquity  \\\n",
       "count    4.225000e+03              3290.000000    4.136000e+03   \n",
       "mean     5.063973e+08                -0.484180    2.685090e+03   \n",
       "std      3.049297e+09                 5.646011    1.732375e+05   \n",
       "min     -6.227011e+10              -151.944400   -3.477246e+04   \n",
       "25%     -1.085712e+07                -0.021675   -8.107500e-02   \n",
       "50%      2.472500e+07                 0.035700    7.485000e-02   \n",
       "75%      2.098000e+08                 0.090675    1.532250e-01   \n",
       "max      9.414620e+10               167.328600    1.114114e+07   \n",
       "\n",
       "       Book Value per Share        Class  \n",
       "count           4140.000000  4392.000000  \n",
       "mean             -70.206259     0.693534  \n",
       "std             5648.293390     0.461078  \n",
       "min          -363376.472000     0.000000  \n",
       "25%                3.217750     0.000000  \n",
       "50%                9.939000     1.000000  \n",
       "75%               20.550250     1.000000  \n",
       "max             3397.105000     1.000000  "
      ]
     },
     "execution_count": 13,
     "metadata": {},
     "output_type": "execute_result"
    }
   ],
   "source": [
    "df_final.describe()"
   ]
  },
  {
   "cell_type": "code",
   "execution_count": 14,
   "metadata": {},
   "outputs": [
    {
     "data": {
      "text/plain": [
       "Total debt                    168\n",
       "Operating Income               35\n",
       "EBITDA Margin                 308\n",
       "daysOfPayablesOutstanding     234\n",
       "Inventory Turnover            239\n",
       "Revenue Growth                139\n",
       "Free Cash Flow                167\n",
       "returnOnCapitalEmployed      1102\n",
       "returnOnEquity                256\n",
       "Book Value per Share          252\n",
       "Class                           0\n",
       "dtype: int64"
      ]
     },
     "execution_count": 14,
     "metadata": {},
     "output_type": "execute_result"
    }
   ],
   "source": [
    "df_final.isna().sum()"
   ]
  },
  {
   "cell_type": "code",
   "execution_count": 15,
   "metadata": {},
   "outputs": [
    {
     "name": "stderr",
     "output_type": "stream",
     "text": [
      "<ipython-input-15-7cb5fe672eaa>:2: SettingWithCopyWarning: \n",
      "A value is trying to be set on a copy of a slice from a DataFrame\n",
      "\n",
      "See the caveats in the documentation: https://pandas.pydata.org/pandas-docs/stable/user_guide/indexing.html#returning-a-view-versus-a-copy\n",
      "  df_final[i].fillna(df_final[i].mean(),inplace=True)\n"
     ]
    }
   ],
   "source": [
    "for i in df_final.columns:\n",
    "    df_final[i].fillna(df_final[i].mean(),inplace=True)\n",
    "    "
   ]
  },
  {
   "cell_type": "code",
   "execution_count": 16,
   "metadata": {},
   "outputs": [
    {
     "data": {
      "text/plain": [
       "<AxesSubplot:>"
      ]
     },
     "execution_count": 16,
     "metadata": {},
     "output_type": "execute_result"
    },
    {
     "data": {
      "image/png": "[encoded data removed]",
      "text/plain": [
       "<Figure size 432x288 with 2 Axes>"
      ]
     },
     "metadata": {
      "needs_background": "light"
     },
     "output_type": "display_data"
    }
   ],
   "source": [
    "sns.heatmap(df_final.corr())"
   ]
  },
  {
   "cell_type": "markdown",
   "metadata": {},
   "source": [
    "Removing Feature returnOnEquity and Book Value per Share as the correlation towards target function is as significant as returnoncapital employed"
   ]
  },
  {
   "cell_type": "code",
   "execution_count": 17,
   "metadata": {},
   "outputs": [
    {
     "name": "stderr",
     "output_type": "stream",
     "text": [
      "<ipython-input-17-026382189327>:1: SettingWithCopyWarning: \n",
      "A value is trying to be set on a copy of a slice from a DataFrame\n",
      "\n",
      "See the caveats in the documentation: https://pandas.pydata.org/pandas-docs/stable/user_guide/indexing.html#returning-a-view-versus-a-copy\n",
      "  df_final.drop(columns=[\"returnOnEquity\",\"Book Value per Share\"],inplace=True)\n"
     ]
    }
   ],
   "source": [
    "df_final.drop(columns=[\"returnOnEquity\",\"Book Value per Share\"],inplace=True)"
   ]
  },
  {
   "cell_type": "markdown",
   "metadata": {},
   "source": [
    "Categorizing the data in specific value"
   ]
  },
  {
   "cell_type": "markdown",
   "metadata": {},
   "source": [
    "* In order to be able to properly use our data , we need to convert some discrete features to categorical features so that we can have fixed number of categories for that column which would be easier for classification .\n",
    "* So we define a preprocessor function to be applied on different columns ."
   ]
  },
  {
   "cell_type": "code",
   "execution_count": 18,
   "metadata": {},
   "outputs": [
    {
     "data": {
      "text/html": [
       "<div>\n",
       "<style scoped>\n",
       "    .dataframe tbody tr th:only-of-type {\n",
       "        vertical-align: middle;\n",
       "    }\n",
       "\n",
       "    .dataframe tbody tr th {\n",
       "        vertical-align: top;\n",
       "    }\n",
       "\n",
       "    .dataframe thead th {\n",
       "        text-align: right;\n",
       "    }\n",
       "</style>\n",
       "<table border=\"1\" class=\"dataframe\">\n",
       "  <thead>\n",
       "    <tr style=\"text-align: right;\">\n",
       "      <th></th>\n",
       "      <th>Total debt</th>\n",
       "      <th>Operating Income</th>\n",
       "      <th>EBITDA Margin</th>\n",
       "      <th>daysOfPayablesOutstanding</th>\n",
       "      <th>Inventory Turnover</th>\n",
       "      <th>Revenue Growth</th>\n",
       "      <th>Free Cash Flow</th>\n",
       "      <th>returnOnCapitalEmployed</th>\n",
       "      <th>Class</th>\n",
       "    </tr>\n",
       "  </thead>\n",
       "  <tbody>\n",
       "    <tr>\n",
       "      <th>count</th>\n",
       "      <td>4.392000e+03</td>\n",
       "      <td>4.392000e+03</td>\n",
       "      <td>4392.000000</td>\n",
       "      <td>4392.000000</td>\n",
       "      <td>4392.000000</td>\n",
       "      <td>4392.000000</td>\n",
       "      <td>4.392000e+03</td>\n",
       "      <td>4392.000000</td>\n",
       "      <td>4392.000000</td>\n",
       "    </tr>\n",
       "    <tr>\n",
       "      <th>mean</th>\n",
       "      <td>4.276841e+09</td>\n",
       "      <td>6.541207e+08</td>\n",
       "      <td>-7.943095</td>\n",
       "      <td>264.293788</td>\n",
       "      <td>48.044948</td>\n",
       "      <td>3.455278</td>\n",
       "      <td>5.063973e+08</td>\n",
       "      <td>-0.484180</td>\n",
       "      <td>0.693534</td>\n",
       "    </tr>\n",
       "    <tr>\n",
       "      <th>std</th>\n",
       "      <td>2.265331e+10</td>\n",
       "      <td>2.957483e+09</td>\n",
       "      <td>176.037986</td>\n",
       "      <td>3627.701396</td>\n",
       "      <td>1452.817226</td>\n",
       "      <td>192.385604</td>\n",
       "      <td>2.990749e+09</td>\n",
       "      <td>4.886433</td>\n",
       "      <td>0.461078</td>\n",
       "    </tr>\n",
       "    <tr>\n",
       "      <th>min</th>\n",
       "      <td>-8.451650e+09</td>\n",
       "      <td>-1.455700e+10</td>\n",
       "      <td>-8809.838000</td>\n",
       "      <td>-26028.289100</td>\n",
       "      <td>0.000000</td>\n",
       "      <td>-3.461500</td>\n",
       "      <td>-6.227011e+10</td>\n",
       "      <td>-151.944400</td>\n",
       "      <td>0.000000</td>\n",
       "    </tr>\n",
       "    <tr>\n",
       "      <th>25%</th>\n",
       "      <td>1.086581e+07</td>\n",
       "      <td>-5.199308e+06</td>\n",
       "      <td>-0.024475</td>\n",
       "      <td>11.169625</td>\n",
       "      <td>0.000000</td>\n",
       "      <td>0.000000</td>\n",
       "      <td>-9.571750e+06</td>\n",
       "      <td>-0.484180</td>\n",
       "      <td>0.000000</td>\n",
       "    </tr>\n",
       "    <tr>\n",
       "      <th>50%</th>\n",
       "      <td>3.019144e+08</td>\n",
       "      <td>4.366150e+07</td>\n",
       "      <td>0.113000</td>\n",
       "      <td>29.251050</td>\n",
       "      <td>4.218050</td>\n",
       "      <td>0.078800</td>\n",
       "      <td>3.033400e+07</td>\n",
       "      <td>0.000000</td>\n",
       "      <td>1.000000</td>\n",
       "    </tr>\n",
       "    <tr>\n",
       "      <th>75%</th>\n",
       "      <td>2.139258e+09</td>\n",
       "      <td>3.019341e+08</td>\n",
       "      <td>0.290000</td>\n",
       "      <td>64.901950</td>\n",
       "      <td>13.153500</td>\n",
       "      <td>0.211475</td>\n",
       "      <td>2.659730e+08</td>\n",
       "      <td>0.067125</td>\n",
       "      <td>1.000000</td>\n",
       "    </tr>\n",
       "    <tr>\n",
       "      <th>max</th>\n",
       "      <td>5.336270e+11</td>\n",
       "      <td>7.089800e+10</td>\n",
       "      <td>3090.870000</td>\n",
       "      <td>127441.758100</td>\n",
       "      <td>95827.710300</td>\n",
       "      <td>12739.000000</td>\n",
       "      <td>9.414620e+10</td>\n",
       "      <td>167.328600</td>\n",
       "      <td>1.000000</td>\n",
       "    </tr>\n",
       "  </tbody>\n",
       "</table>\n",
       "</div>"
      ],
      "text/plain": [
       "         Total debt  Operating Income  EBITDA Margin  \\\n",
       "count  4.392000e+03      4.392000e+03    4392.000000   \n",
       "mean   4.276841e+09      6.541207e+08      -7.943095   \n",
       "std    2.265331e+10      2.957483e+09     176.037986   \n",
       "min   -8.451650e+09     -1.455700e+10   -8809.838000   \n",
       "25%    1.086581e+07     -5.199308e+06      -0.024475   \n",
       "50%    3.019144e+08      4.366150e+07       0.113000   \n",
       "75%    2.139258e+09      3.019341e+08       0.290000   \n",
       "max    5.336270e+11      7.089800e+10    3090.870000   \n",
       "\n",
       "       daysOfPayablesOutstanding  Inventory Turnover  Revenue Growth  \\\n",
       "count                4392.000000         4392.000000     4392.000000   \n",
       "mean                  264.293788           48.044948        3.455278   \n",
       "std                  3627.701396         1452.817226      192.385604   \n",
       "min                -26028.289100            0.000000       -3.461500   \n",
       "25%                    11.169625            0.000000        0.000000   \n",
       "50%                    29.251050            4.218050        0.078800   \n",
       "75%                    64.901950           13.153500        0.211475   \n",
       "max                127441.758100        95827.710300    12739.000000   \n",
       "\n",
       "       Free Cash Flow  returnOnCapitalEmployed        Class  \n",
       "count    4.392000e+03              4392.000000  4392.000000  \n",
       "mean     5.063973e+08                -0.484180     0.693534  \n",
       "std      2.990749e+09                 4.886433     0.461078  \n",
       "min     -6.227011e+10              -151.944400     0.000000  \n",
       "25%     -9.571750e+06                -0.484180     0.000000  \n",
       "50%      3.033400e+07                 0.000000     1.000000  \n",
       "75%      2.659730e+08                 0.067125     1.000000  \n",
       "max      9.414620e+10               167.328600     1.000000  "
      ]
     },
     "execution_count": 18,
     "metadata": {},
     "output_type": "execute_result"
    }
   ],
   "source": [
    "df_final.describe()"
   ]
  },
  {
   "cell_type": "code",
   "execution_count": 19,
   "metadata": {},
   "outputs": [],
   "source": [
    "def Cat_in2(df,atr):\n",
    "  m = 0\n",
    "  for i in atr:\n",
    "    m = df[i].mean()\n",
    "    df[i] = [1 if x>m else 0 for x in df[i]]\n",
    "  return df\n",
    "  \n",
    "    # print()"
   ]
  },
  {
   "cell_type": "code",
   "execution_count": 20,
   "metadata": {},
   "outputs": [],
   "source": [
    "def Cat_in3(df,atr):\n",
    "  for i in atr:\n",
    "    a=df.describe()[i][\"25%\"]\n",
    "    b=df.describe()[i][\"75%\"]\n",
    "    for x in range(len(df[i])):\n",
    "      if df[i][x]<a:\n",
    "        df[i][x]=0\n",
    "      if df[i][x]>a:\n",
    "        if df[i][x]<b:\n",
    "          df[i][x]=1\n",
    "      if df[i][x]>b:\n",
    "        df[i][x]=2\n",
    "        \n",
    "    # df[i] = [0 if x<a else 1 if a<=x<b else 2 for x in df[i]]\n",
    "  return df"
   ]
  },
  {
   "cell_type": "code",
   "execution_count": 21,
   "metadata": {},
   "outputs": [],
   "source": [
    "df_final_copy=df_final.copy()"
   ]
  },
  {
   "cell_type": "code",
   "execution_count": 22,
   "metadata": {},
   "outputs": [
    {
     "data": {
      "text/plain": [
       "Index(['Total debt', 'Operating Income', 'EBITDA Margin',\n",
       "       'daysOfPayablesOutstanding', 'Inventory Turnover', 'Revenue Growth',\n",
       "       'Free Cash Flow', 'returnOnCapitalEmployed', 'Class'],\n",
       "      dtype='object')"
      ]
     },
     "execution_count": 22,
     "metadata": {},
     "output_type": "execute_result"
    }
   ],
   "source": [
    "df_final_copy.columns"
   ]
  },
  {
   "cell_type": "markdown",
   "metadata": {},
   "source": [
    "Dividing Features into 2 and 3 discrete value ,\n",
    "if there numerical  range of  features is more , dividing into 3 discrete values rest 2\n"
   ]
  },
  {
   "cell_type": "code",
   "execution_count": 23,
   "metadata": {},
   "outputs": [],
   "source": [
    "col_cat2=[\"EBITDA Margin\",\"daysOfPayablesOutstanding\",\"Inventory Turnover\",\"Revenue Growth\",\"returnOnCapitalEmployed\"]\n",
    "col_cat3=[\"Total debt\",\"Operating Income\",\"Free Cash Flow\"]"
   ]
  },
  {
   "cell_type": "code",
   "execution_count": 24,
   "metadata": {},
   "outputs": [
    {
     "name": "stderr",
     "output_type": "stream",
     "text": [
      "<ipython-input-20-327b480694b9>:12: SettingWithCopyWarning: \n",
      "A value is trying to be set on a copy of a slice from a DataFrame\n",
      "\n",
      "See the caveats in the documentation: https://pandas.pydata.org/pandas-docs/stable/user_guide/indexing.html#returning-a-view-versus-a-copy\n",
      "  df[i][x]=2\n",
      "<ipython-input-20-327b480694b9>:10: SettingWithCopyWarning: \n",
      "A value is trying to be set on a copy of a slice from a DataFrame\n",
      "\n",
      "See the caveats in the documentation: https://pandas.pydata.org/pandas-docs/stable/user_guide/indexing.html#returning-a-view-versus-a-copy\n",
      "  df[i][x]=1\n",
      "<ipython-input-20-327b480694b9>:7: SettingWithCopyWarning: \n",
      "A value is trying to be set on a copy of a slice from a DataFrame\n",
      "\n",
      "See the caveats in the documentation: https://pandas.pydata.org/pandas-docs/stable/user_guide/indexing.html#returning-a-view-versus-a-copy\n",
      "  df[i][x]=0\n",
      "<ipython-input-20-327b480694b9>:12: SettingWithCopyWarning: \n",
      "A value is trying to be set on a copy of a slice from a DataFrame\n",
      "\n",
      "See the caveats in the documentation: https://pandas.pydata.org/pandas-docs/stable/user_guide/indexing.html#returning-a-view-versus-a-copy\n",
      "  df[i][x]=2\n",
      "<ipython-input-20-327b480694b9>:7: SettingWithCopyWarning: \n",
      "A value is trying to be set on a copy of a slice from a DataFrame\n",
      "\n",
      "See the caveats in the documentation: https://pandas.pydata.org/pandas-docs/stable/user_guide/indexing.html#returning-a-view-versus-a-copy\n",
      "  df[i][x]=0\n",
      "<ipython-input-20-327b480694b9>:10: SettingWithCopyWarning: \n",
      "A value is trying to be set on a copy of a slice from a DataFrame\n",
      "\n",
      "See the caveats in the documentation: https://pandas.pydata.org/pandas-docs/stable/user_guide/indexing.html#returning-a-view-versus-a-copy\n",
      "  df[i][x]=1\n",
      "<ipython-input-20-327b480694b9>:12: SettingWithCopyWarning: \n",
      "A value is trying to be set on a copy of a slice from a DataFrame\n",
      "\n",
      "See the caveats in the documentation: https://pandas.pydata.org/pandas-docs/stable/user_guide/indexing.html#returning-a-view-versus-a-copy\n",
      "  df[i][x]=2\n",
      "<ipython-input-20-327b480694b9>:10: SettingWithCopyWarning: \n",
      "A value is trying to be set on a copy of a slice from a DataFrame\n",
      "\n",
      "See the caveats in the documentation: https://pandas.pydata.org/pandas-docs/stable/user_guide/indexing.html#returning-a-view-versus-a-copy\n",
      "  df[i][x]=1\n",
      "<ipython-input-20-327b480694b9>:7: SettingWithCopyWarning: \n",
      "A value is trying to be set on a copy of a slice from a DataFrame\n",
      "\n",
      "See the caveats in the documentation: https://pandas.pydata.org/pandas-docs/stable/user_guide/indexing.html#returning-a-view-versus-a-copy\n",
      "  df[i][x]=0\n"
     ]
    }
   ],
   "source": [
    "# for i in col_cat2:\n",
    "    # print(i)\n",
    "df_final_copy=Cat_in2(df_final_copy,col_cat2)\n",
    "df_final_copy=Cat_in3(df_final_copy,col_cat3)"
   ]
  },
  {
   "cell_type": "code",
   "execution_count": 25,
   "metadata": {},
   "outputs": [
    {
     "data": {
      "text/plain": [
       "array([2., 1., 0.])"
      ]
     },
     "execution_count": 25,
     "metadata": {},
     "output_type": "execute_result"
    }
   ],
   "source": [
    "df_final_copy[\"Total debt\"].unique()"
   ]
  },
  {
   "cell_type": "markdown",
   "metadata": {},
   "source": [
    "Finding Probabilities of Independence feature"
   ]
  },
  {
   "cell_type": "code",
   "execution_count": 26,
   "metadata": {},
   "outputs": [
    {
     "name": "stdout",
     "output_type": "stream",
     "text": [
      "{'Total debt': [0.25, 0.5, 0.25], 'Operating Income': [0.75, 0.25], 'EBITDA Margin': [0.0383, 0.9617], 'daysOfPayablesOutstanding': [0.9517, 0.0483], 'Inventory Turnover': [0.9192, 0.0808], 'Revenue Growth': [0.9556, 0.0444], 'Free Cash Flow': [0.75, 0.25], 'returnOnCapitalEmployed': [0.0772, 0.9228], 'Class': [0.3065, 0.6935]}\n"
     ]
    }
   ],
   "source": [
    "d = {}\n",
    "\n",
    "def get_prob(atr):\n",
    "    l = len(df_final_copy)\n",
    "    uniq = sorted(df_final_copy[atr].unique())\n",
    "    p = [round(len(df_final_copy[df_final_copy[atr] == x])/l, 4) for x in uniq]\n",
    "    d[atr] = p\n",
    "cols = df_final_copy.columns\n",
    "for i in cols:\n",
    "  get_prob(i)\n",
    "print(d)\n"
   ]
  },
  {
   "cell_type": "code",
   "execution_count": 27,
   "metadata": {},
   "outputs": [
    {
     "data": {
      "text/plain": [
       "[[0.3212, 0.0364], [0.5744, 0.2769], [0.1044, 0.6867]]"
      ]
     },
     "execution_count": 27,
     "metadata": {},
     "output_type": "execute_result"
    }
   ],
   "source": [
    "def dep1_prob(atr, dep):\n",
    "  l = len(df_final_copy)\n",
    "  u1 = sorted(df_final_copy[atr].unique())\n",
    "  u2 = sorted(df_final_copy[dep].unique())\n",
    "  p = []\n",
    "  for i in u1:\n",
    "    a = []\n",
    "    for j in u2:\n",
    "      a.append(round(len(df_final_copy[(df_final_copy[atr] == i) & (df_final_copy[dep] == j)])/len(df_final_copy[df_final_copy[dep] == j]), 4))\n",
    "    p.append(a)\n",
    "  return p\n",
    "\n",
    "dep1_prob(\"Total debt\", \"Operating Income\")"
   ]
  },
  {
   "cell_type": "code",
   "execution_count": 28,
   "metadata": {},
   "outputs": [
    {
     "data": {
      "text/plain": [
       "[[1.0, 0.7401], [0.0, 0.2599]]"
      ]
     },
     "execution_count": 28,
     "metadata": {},
     "output_type": "execute_result"
    }
   ],
   "source": [
    "dep1_prob(\"Operating Income\",\"EBITDA Margin\")"
   ]
  },
  {
   "cell_type": "code",
   "execution_count": 29,
   "metadata": {},
   "outputs": [
    {
     "data": {
      "text/plain": [
       "[[0.9504, 0.9255, 0.9799, 1.0], [0.0496, 0.0745, 0.0201, 0.0]]"
      ]
     },
     "execution_count": 29,
     "metadata": {},
     "output_type": "execute_result"
    }
   ],
   "source": [
    "def node2_prob(atr, dep1, dep2):\n",
    "  u1 = sorted(df_final_copy[atr].unique())\n",
    "  u2 = sorted(df_final_copy[dep1].unique())\n",
    "  u3 = sorted(df_final_copy[dep2].unique())\n",
    "  p = []\n",
    "  for i in u1:\n",
    "    a = []\n",
    "    for j in u2:\n",
    "      for k in u3:\n",
    "        a.append(round(len(df_final_copy[(df_final_copy[atr] == i) & (df_final_copy[dep1] == j) & (df_final_copy[dep2] == k)])/len(df_final_copy[(df_final_copy[dep1] == j) & (df_final_copy[dep2] == k)]), 4))\n",
    "    p.append(a)\n",
    "  return p\n",
    "\n",
    "node2_prob('daysOfPayablesOutstanding', 'Inventory Turnover', 'Revenue Growth')"
   ]
  },
  {
   "cell_type": "markdown",
   "metadata": {},
   "source": [
    "**Probablistic Graphical Model Relationships**\n",
    "\n",
    "* In order to create a Probablistic Graphical Model representing this dataset , we first need to find the relationships in the dataset and the flow of influence that is essential in perspective of the PGM."
   ]
  },
  {
   "cell_type": "code",
   "execution_count": 30,
   "metadata": {},
   "outputs": [
    {
     "name": "stderr",
     "output_type": "stream",
     "text": [
      "Traceback (most recent call last):\n",
      "  File \"C:\\Users\\91889\\.conda\\Scripts\\pip-script.py\", line 6, in <module>\n",
      "    from pip._internal.cli.main import main\n",
      "  File \"C:\\Users\\91889\\.conda\\lib\\site-packages\\pip\\_internal\\cli\\main.py\", line 8, in <module>\n",
      "    from pip._internal.cli.autocompletion import autocomplete\n",
      "  File \"C:\\Users\\91889\\.conda\\lib\\site-packages\\pip\\_internal\\cli\\autocompletion.py\", line 9, in <module>\n",
      "    from pip._internal.cli.main_parser import create_main_parser\n",
      "  File \"C:\\Users\\91889\\.conda\\lib\\site-packages\\pip\\_internal\\cli\\main_parser.py\", line 7, in <module>\n",
      "    from pip._internal.cli import cmdoptions\n",
      "  File \"C:\\Users\\91889\\.conda\\lib\\site-packages\\pip\\_internal\\cli\\cmdoptions.py\", line 22, in <module>\n",
      "    from pip._internal.cli.progress_bars import BAR_TYPES\n",
      "  File \"C:\\Users\\91889\\.conda\\lib\\site-packages\\pip\\_internal\\cli\\progress_bars.py\", line 9, in <module>\n",
      "    from pip._internal.utils.logging import get_indentation\n",
      "  File \"C:\\Users\\91889\\.conda\\lib\\site-packages\\pip\\_internal\\utils\\logging.py\", line 14, in <module>\n",
      "    from pip._internal.utils.misc import ensure_dir\n",
      "  File \"C:\\Users\\91889\\.conda\\lib\\site-packages\\pip\\_internal\\utils\\misc.py\", line 29, in <module>\n",
      "    from pip._internal.locations import get_major_minor_version, site_packages, user_site\n",
      "  File \"C:\\Users\\91889\\.conda\\lib\\site-packages\\pip\\_internal\\locations\\__init__.py\", line 14, in <module>\n",
      "    from . import _sysconfig\n",
      "  File \"C:\\Users\\91889\\.conda\\lib\\site-packages\\pip\\_internal\\locations\\_sysconfig.py\", line 7, in <module>\n",
      "    from pip._internal.exceptions import InvalidSchemeCombination, UserInstallationInvalid\n",
      "ImportError: cannot import name 'InvalidSchemeCombination' from 'pip._internal.exceptions' (C:\\Users\\91889\\.conda\\lib\\site-packages\\pip\\_internal\\exceptions.py)\n",
      "Traceback (most recent call last):\n",
      "  File \"C:\\Users\\91889\\.conda\\Scripts\\pip-script.py\", line 6, in <module>\n",
      "    from pip._internal.cli.main import main\n",
      "  File \"C:\\Users\\91889\\.conda\\lib\\site-packages\\pip\\_internal\\cli\\main.py\", line 8, in <module>\n",
      "    from pip._internal.cli.autocompletion import autocomplete\n",
      "  File \"C:\\Users\\91889\\.conda\\lib\\site-packages\\pip\\_internal\\cli\\autocompletion.py\", line 9, in <module>\n",
      "    from pip._internal.cli.main_parser import create_main_parser\n",
      "  File \"C:\\Users\\91889\\.conda\\lib\\site-packages\\pip\\_internal\\cli\\main_parser.py\", line 7, in <module>\n",
      "    from pip._internal.cli import cmdoptions\n",
      "  File \"C:\\Users\\91889\\.conda\\lib\\site-packages\\pip\\_internal\\cli\\cmdoptions.py\", line 22, in <module>\n",
      "    from pip._internal.cli.progress_bars import BAR_TYPES\n",
      "  File \"C:\\Users\\91889\\.conda\\lib\\site-packages\\pip\\_internal\\cli\\progress_bars.py\", line 9, in <module>\n",
      "    from pip._internal.utils.logging import get_indentation\n",
      "  File \"C:\\Users\\91889\\.conda\\lib\\site-packages\\pip\\_internal\\utils\\logging.py\", line 14, in <module>\n",
      "    from pip._internal.utils.misc import ensure_dir\n",
      "  File \"C:\\Users\\91889\\.conda\\lib\\site-packages\\pip\\_internal\\utils\\misc.py\", line 29, in <module>\n",
      "    from pip._internal.locations import get_major_minor_version, site_packages, user_site\n",
      "  File \"C:\\Users\\91889\\.conda\\lib\\site-packages\\pip\\_internal\\locations\\__init__.py\", line 14, in <module>\n",
      "    from . import _sysconfig\n",
      "  File \"C:\\Users\\91889\\.conda\\lib\\site-packages\\pip\\_internal\\locations\\_sysconfig.py\", line 7, in <module>\n",
      "    from pip._internal.exceptions import InvalidSchemeCombination, UserInstallationInvalid\n",
      "ImportError: cannot import name 'InvalidSchemeCombination' from 'pip._internal.exceptions' (C:\\Users\\91889\\.conda\\lib\\site-packages\\pip\\_internal\\exceptions.py)\n"
     ]
    }
   ],
   "source": [
    "!pip install networkx\n",
    "!pip install pgmpy"
   ]
  },
  {
   "cell_type": "code",
   "execution_count": 31,
   "metadata": {},
   "outputs": [
    {
     "ename": "ModuleNotFoundError",
     "evalue": "No module named 'pgmpy'",
     "output_type": "error",
     "traceback": [
      "\u001b[1;31m---------------------------------------------------------------------------\u001b[0m",
      "\u001b[1;31mModuleNotFoundError\u001b[0m                       Traceback (most recent call last)",
      "\u001b[1;32m<ipython-input-31-e48cf1801c67>\u001b[0m in \u001b[0;36m<module>\u001b[1;34m\u001b[0m\n\u001b[1;32m----> 1\u001b[1;33m \u001b[1;32mfrom\u001b[0m \u001b[0mpgmpy\u001b[0m\u001b[1;33m.\u001b[0m\u001b[0mmodels\u001b[0m \u001b[1;32mimport\u001b[0m \u001b[0mBayesianNetwork\u001b[0m\u001b[1;33m\u001b[0m\u001b[1;33m\u001b[0m\u001b[0m\n\u001b[0m\u001b[0;32m      2\u001b[0m \u001b[1;32mfrom\u001b[0m \u001b[0mpgmpy\u001b[0m\u001b[1;33m.\u001b[0m\u001b[0mfactors\u001b[0m\u001b[1;33m.\u001b[0m\u001b[0mdiscrete\u001b[0m \u001b[1;32mimport\u001b[0m \u001b[0mTabularCPD\u001b[0m\u001b[1;33m\u001b[0m\u001b[1;33m\u001b[0m\u001b[0m\n\u001b[0;32m      3\u001b[0m \u001b[1;33m\u001b[0m\u001b[0m\n\u001b[0;32m      4\u001b[0m \u001b[0mInvestmentReturn_model\u001b[0m \u001b[1;33m=\u001b[0m \u001b[0mBayesianNetwork\u001b[0m\u001b[1;33m(\u001b[0m\u001b[1;33m[\u001b[0m\u001b[1;33m(\u001b[0m\u001b[1;34m'daysOfPayablesOutstanding'\u001b[0m\u001b[1;33m,\u001b[0m \u001b[1;34m'Revenue Growth'\u001b[0m\u001b[1;33m)\u001b[0m\u001b[1;33m,\u001b[0m \u001b[1;33m(\u001b[0m\u001b[1;34m'Inventory Turnover'\u001b[0m\u001b[1;33m,\u001b[0m \u001b[1;34m'Revenue Growth'\u001b[0m\u001b[1;33m)\u001b[0m\u001b[1;33m,\u001b[0m \u001b[1;33m(\u001b[0m\u001b[1;34m'returnOnCapitalEmployed'\u001b[0m\u001b[1;33m,\u001b[0m \u001b[1;34m'Class'\u001b[0m\u001b[1;33m)\u001b[0m\u001b[1;33m,\u001b[0m \u001b[1;33m(\u001b[0m\u001b[1;34m'Free Cash Flow'\u001b[0m\u001b[1;33m,\u001b[0m \u001b[1;34m'Class'\u001b[0m\u001b[1;33m)\u001b[0m\u001b[1;33m,\u001b[0m \u001b[1;33m(\u001b[0m\u001b[1;34m'Total debt'\u001b[0m\u001b[1;33m,\u001b[0m \u001b[1;34m'Operating Income'\u001b[0m\u001b[1;33m)\u001b[0m\u001b[1;33m,\u001b[0m \u001b[1;33m(\u001b[0m\u001b[1;34m'Operating Income'\u001b[0m\u001b[1;33m,\u001b[0m \u001b[1;34m'EBITDA Margin'\u001b[0m\u001b[1;33m)\u001b[0m\u001b[1;33m,\u001b[0m \u001b[1;33m(\u001b[0m\u001b[1;34m'EBITDA Margin'\u001b[0m\u001b[1;33m,\u001b[0m \u001b[1;34m'Class'\u001b[0m\u001b[1;33m)\u001b[0m\u001b[1;33m,\u001b[0m \u001b[1;33m(\u001b[0m\u001b[1;34m'Revenue Growth'\u001b[0m\u001b[1;33m,\u001b[0m \u001b[1;34m'Class'\u001b[0m\u001b[1;33m)\u001b[0m\u001b[1;33m]\u001b[0m\u001b[1;33m)\u001b[0m\u001b[1;33m\u001b[0m\u001b[1;33m\u001b[0m\u001b[0m\n\u001b[0;32m      5\u001b[0m \u001b[0mcpd_td\u001b[0m \u001b[1;33m=\u001b[0m \u001b[0mTabularCPD\u001b[0m\u001b[1;33m(\u001b[0m\u001b[1;34m'Total debt'\u001b[0m\u001b[1;33m,\u001b[0m \u001b[1;36m3\u001b[0m\u001b[1;33m,\u001b[0m \u001b[1;33m[\u001b[0m\u001b[1;33m[\u001b[0m\u001b[0md\u001b[0m\u001b[1;33m[\u001b[0m\u001b[1;34m'Total debt'\u001b[0m\u001b[1;33m]\u001b[0m\u001b[1;33m[\u001b[0m\u001b[1;36m0\u001b[0m\u001b[1;33m]\u001b[0m\u001b[1;33m]\u001b[0m\u001b[1;33m,\u001b[0m \u001b[1;33m[\u001b[0m\u001b[0md\u001b[0m\u001b[1;33m[\u001b[0m\u001b[1;34m'Total debt'\u001b[0m\u001b[1;33m]\u001b[0m\u001b[1;33m[\u001b[0m\u001b[1;36m1\u001b[0m\u001b[1;33m]\u001b[0m\u001b[1;33m]\u001b[0m\u001b[1;33m,\u001b[0m \u001b[1;33m[\u001b[0m\u001b[0md\u001b[0m\u001b[1;33m[\u001b[0m\u001b[1;34m'Total debt'\u001b[0m\u001b[1;33m]\u001b[0m\u001b[1;33m[\u001b[0m\u001b[1;36m2\u001b[0m\u001b[1;33m]\u001b[0m\u001b[1;33m]\u001b[0m\u001b[1;33m]\u001b[0m\u001b[1;33m)\u001b[0m\u001b[1;33m\u001b[0m\u001b[1;33m\u001b[0m\u001b[0m\n",
      "\u001b[1;31mModuleNotFoundError\u001b[0m: No module named 'pgmpy'"
     ]
    }
   ],
   "source": [
    "from pgmpy.models import BayesianNetwork\n",
    "from pgmpy.factors.discrete import TabularCPD\n",
    "\n",
    "InvestmentReturn_model = BayesianNetwork([('daysOfPayablesOutstanding', 'Revenue Growth'), ('Inventory Turnover', 'Revenue Growth'), ('returnOnCapitalEmployed', 'Class'), ('Free Cash Flow', 'Class'), ('Total debt', 'Operating Income'), ('Operating Income', 'EBITDA Margin'), ('EBITDA Margin', 'Class'), ('Revenue Growth', 'Class')])\n",
    "cpd_td = TabularCPD('Total debt', 3, [[d['Total debt'][0]], [d['Total debt'][1]], [d['Total debt'][2]]])\n",
    "# cpd_PedFunc = TabularCPD('PedFunc', 2, [[d['DiabetesPedigreeFunction'][0]], [d['DiabetesPedigreeFunction'][1]]])\n",
    "# cpd_SkinThick = TabularCPD('SkinThick', 3, dep_prob('SkinThickness', 'Total debt'), ['Age'], [3])\n",
    "# cpd_Pregnancies = TabularCPD('Pregnancies', 3, dep_prob('Pregnancies', 'Age'), ['Age'], [3])\n",
    "# cpd_BMI = TabularCPD('BMI', 2, dep_prob('BMI', 'SkinThickness'), ['SkinThick'], [3])\n",
    "# cpd_Glucose = TabularCPD('Glucose', 3, dep_prob('Glucose', 'Insulin'), ['Insulin'], [2])\n",
    "# cpd_Diabetes = TabularCPD('Diabetes', 2, dep_prob('Outcome', 'Glucose'), ['Glucose'], [3])\n",
    "# cpd_Insulin = TabularCPD('Insulin', 2, dep_prob2('Insulin', 'Age', 'DiabetesPedigreeFunction'), ['Age', 'PedFunc'], [3, 2])\n",
    "# cpd_BloodP = TabularCPD('BloodP', 2, dep_prob4('BloodPressure', 'BMI', 'Insulin', 'Glucose', 'Outcome'), ['BMI', 'Insulin', 'Glucose', 'Diabetes'], [2, 2, 3, 2])"
   ]
  },
  {
   "cell_type": "code",
   "execution_count": null,
   "metadata": {},
   "outputs": [],
   "source": []
  },
  {
   "attachments": {},
   "cell_type": "markdown",
   "metadata": {},
   "source": [
    "Ploting Bayesian Network"
   ]
  },
  {
   "cell_type": "code",
   "execution_count": 32,
   "metadata": {},
   "outputs": [
    {
     "data": {
      "image/png": "[encoded data removed]",
      "text/plain": [
       "<Figure size 432x288 with 1 Axes>"
      ]
     },
     "metadata": {},
     "output_type": "display_data"
    }
   ],
   "source": [
    "import networkx as nx\n",
    "import matplotlib.pyplot as plt\n",
    "edges = [('Total debt', 'Operating Income'), ('Operating Income', 'EBITDA Margin'), ('EBITDA Margin', 'Investment Return'), ('daysOfPayablesOutstanding', 'Revenue Growth'),('Revenue Growth','Investment Return'), ('Inventory Turnover', 'Revenue Growth'), ('Free Cash Flow', 'Investment Return'), ('returnOnCapitalEmployed', 'Investment Return')]\n",
    "g = nx.DiGraph()\n",
    "\n",
    "for i in edges:\n",
    "  g.add_edge(i[0], i[1])\n",
    "\n",
    "pos = {'Total debt': (-3,3), 'Operating Income':(-3,2), 'EBITDA Margin':(-1.5,1), 'Investment Return':(0,0), 'Revenue Growth':(1.5,2), 'daysOfPayablesOutstanding':(0,3), 'Inventory Turnover':(3,3), 'Free Cash Flow':(-3,-1), 'returnOnCapitalEmployed':(3,-1)}\n",
    "\n",
    "options = {\n",
    "    \"font_size\": 10,\n",
    "    \"node_size\": 2000,\n",
    "    \"node_color\": \"white\",\n",
    "    \"edgecolors\": \"red\",\n",
    "    \"linewidths\": 2,\n",
    "    \"width\": 2,\n",
    "}\n",
    "\n",
    "nx.draw(g, **options, with_labels = True, pos=pos)"
   ]
  },
  {
   "attachments": {},
   "cell_type": "markdown",
   "metadata": {},
   "source": []
  }
 ],
 "metadata": {
  "kernelspec": {
   "display_name": "Python 3.8.8 ('base')",
   "language": "python",
   "name": "python3"
  },
  "language_info": {
   "codemirror_mode": {
    "name": "ipython",
    "version": 3
   },
   "file_extension": ".py",
   "mimetype": "text/x-python",
   "name": "python",
   "nbconvert_exporter": "python",
   "pygments_lexer": "ipython3",
   "version": "3.8.8"
  },
  "orig_nbformat": 4,
  "vscode": {
   "interpreter": {
    "hash": "ed48bbe6901af0dc6c0b1ba0398ca2f757978f8fe52893c404caad807bf459ad"
   }
  }
 },
 "nbformat": 4,
 "nbformat_minor": 2
}
